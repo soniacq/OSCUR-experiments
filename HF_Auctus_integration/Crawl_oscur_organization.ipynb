{
 "cells": [
  {
   "cell_type": "markdown",
   "id": "69b77b8a",
   "metadata": {},
   "source": [
    "# Fetching Datasets from a Hugging Face Organization\n",
    "This notebook demonstrates how to retrieve datasets published by a specific organization on Hugging Face."
   ]
  },
  {
   "cell_type": "markdown",
   "id": "73b21e87",
   "metadata": {},
   "source": [
    "# Function to Retrieve Organization Datasets\n",
    "This cell defines a function `get_org_datasets` that fetches all datasets published by a given organization."
   ]
  },
  {
   "cell_type": "code",
   "execution_count": 1,
   "id": "9d45082b-50fc-473e-8c0c-aa890141e9c8",
   "metadata": {},
   "outputs": [],
   "source": [
    "import requests\n",
    "\n",
    "def get_org_datasets(org_name):\n",
    "    \"\"\"\n",
    "    Retrieves the datasets published by a specific organization on Hugging Face.\n",
    "    \n",
    "    Args:\n",
    "        org_name (str): Name of the organization (e.g., 'oscur')\n",
    "    \n",
    "    Returns:\n",
    "        list: A list of dataset IDs belonging to the organization\n",
    "    \"\"\"\n",
    "    url = f\"https://huggingface.co/api/datasets?author={org_name}\"\n",
    "    \n",
    "    response = requests.get(url)\n",
    "    if response.status_code != 200:\n",
    "        raise Exception(f\"Failed to fetch datasets for {org_name}: {response.status_code}\")\n",
    "    \n",
    "    datasets = response.json()\n",
    "    return [dataset[\"id\"] for dataset in datasets]\n"
   ]
  },
  {
   "cell_type": "markdown",
   "id": "7824677a",
   "metadata": {},
   "source": [
    "# Example Usage of `get_org_datasets`\n",
    "This cell demonstrates how to use the `get_org_datasets` function to fetch datasets for a specific organization. Here, we use the organization name \"oscur\" as an example."
   ]
  },
  {
   "cell_type": "code",
   "execution_count": null,
   "id": "17a99f7e-ef10-481e-8f10-00cb74b256e0",
   "metadata": {},
   "outputs": [
    {
     "name": "stdout",
     "output_type": "stream",
     "text": [
      "Datasets published by 'oscur':\n",
      "- oscur/automated-traffic-volume-counts-sample\n",
      "- oscur/automated-traffic-volume-counts\n",
      "- oscur/test_pluto\n",
      "- oscur/NYC_vehicle_collisions_issue\n",
      "- oscur/NYC_vehicle_collisions\n",
      "- oscur/pluto\n",
      "- oscur/NYC_311\n",
      "- oscur/taxisvis1M\n",
      "- oscur/NYC_raised_crosswalk\n",
      "- oscur/NYC_speed_humps\n",
      "- oscur/test-profiler1\n",
      "- oscur/test2-profiler3\n",
      "- oscur/test2-profiler4\n"
     ]
    }
   ],
   "source": [
    "# Example usage:\n",
    "org_name = \"oscur\"\n",
    "datasets = get_org_datasets(org_name)\n",
    "\n",
    "print(f\"Datasets published by '{org_name}':\")\n",
    "for ds in datasets:\n",
    "    print(\"-\", ds)"
   ]
  },
  {
   "cell_type": "markdown",
   "id": "0522e4d1",
   "metadata": {},
   "source": [
    "# Downloading Files from Hugging Face Datasets\n",
    "This cell defines functions to download specific files from datasets published by an organization."
   ]
  },
  {
   "cell_type": "code",
   "execution_count": null,
   "id": "00492ad3-81cf-4050-ae72-3caf731bb24d",
   "metadata": {},
   "outputs": [],
   "source": [
    "import os\n",
    "import requests\n",
    "\n",
    "def get_org_datasets(org_name):\n",
    "    \"\"\"Fetch dataset IDs for a Hugging Face organization.\"\"\"\n",
    "    url = f\"https://huggingface.co/api/datasets?author={org_name}\"\n",
    "    response = requests.get(url)\n",
    "    response.raise_for_status()\n",
    "    datasets = response.json()\n",
    "    return [dataset[\"id\"] for dataset in datasets]\n",
    "\n",
    "def download_file_from_dataset(dataset_id, file_name, save_dir=\"downloads\"):\n",
    "    \"\"\"\n",
    "    Download a specific file from a Hugging Face dataset repo if it exists.\n",
    "\n",
    "    Args:\n",
    "        dataset_id (str): Full dataset ID (e.g., 'oscur/nyc-crashes')\n",
    "        file_name (str): File to download (e.g., 'profiling_metadata.json')\n",
    "        save_dir (str): Local folder to save downloaded files\n",
    "    \"\"\"\n",
    "    # Construct URL to raw file\n",
    "    url = f\"https://huggingface.co/datasets/{dataset_id}/resolve/main/{file_name}\"\n",
    "\n",
    "    # Prepare local save path\n",
    "    dataset_subdir = os.path.join(save_dir, dataset_id.replace(\"/\", \"__\"))\n",
    "    os.makedirs(dataset_subdir, exist_ok=True)\n",
    "    file_path = os.path.join(dataset_subdir, file_name)\n",
    "\n",
    "    # Attempt download\n",
    "    response = requests.get(url)\n",
    "    if response.status_code == 200:\n",
    "        # with open(file_path, \"wb\") as f:\n",
    "        #     f.write(response.content)\n",
    "        print(f\"✅ Downloaded {file_name} from {dataset_id}\")\n",
    "    else:\n",
    "        print(f\"❌ File not found in {dataset_id}: {file_name}\")\n",
    "\n",
    "def download_profiling_files(org_name, file_name=\"profiling_metadata.json\"):\n",
    "    \"\"\"Download a specific file from all datasets in an org.\"\"\"\n",
    "    datasets = get_org_datasets(org_name)\n",
    "    for dataset_id in datasets:\n",
    "        download_file_from_dataset(dataset_id, file_name)\n",
    "\n"
   ]
  },
  {
   "cell_type": "markdown",
   "id": "7cfad9ee",
   "metadata": {},
   "source": [
    "# Example Usage of File Download\n",
    "This cell demonstrates how to download profiling files from all datasets in an organization."
   ]
  },
  {
   "cell_type": "code",
   "execution_count": 4,
   "id": "39cedafd-b2ff-4086-9086-c7e9743789bd",
   "metadata": {},
   "outputs": [
    {
     "name": "stdout",
     "output_type": "stream",
     "text": [
      "❌ File not found in oscur/automated-traffic-volume-counts-sample: profiling_metadata.json\n",
      "❌ File not found in oscur/automated-traffic-volume-counts: profiling_metadata.json\n",
      "❌ File not found in oscur/test_pluto: profiling_metadata.json\n",
      "❌ File not found in oscur/NYC_vehicle_collisions_issue: profiling_metadata.json\n",
      "✅ Downloaded profiling_metadata.json from oscur/NYC_vehicle_collisions\n",
      "✅ Downloaded profiling_metadata.json from oscur/pluto\n",
      "✅ Downloaded profiling_metadata.json from oscur/NYC_311\n",
      "✅ Downloaded profiling_metadata.json from oscur/taxisvis1M\n",
      "✅ Downloaded profiling_metadata.json from oscur/NYC_raised_crosswalk\n",
      "✅ Downloaded profiling_metadata.json from oscur/NYC_speed_humps\n",
      "❌ File not found in oscur/test-profiler1: profiling_metadata.json\n",
      "✅ Downloaded profiling_metadata.json from oscur/test2-profiler3\n",
      "❌ File not found in oscur/test2-profiler4: profiling_metadata.json\n"
     ]
    }
   ],
   "source": [
    "\n",
    "# Example usage\n",
    "download_profiling_files(\"oscur\")"
   ]
  }
 ],
 "metadata": {
  "kernelspec": {
   "display_name": "Python 3 (ipykernel)",
   "language": "python",
   "name": "python3"
  },
  "language_info": {
   "codemirror_mode": {
    "name": "ipython",
    "version": 3
   },
   "file_extension": ".py",
   "mimetype": "text/x-python",
   "name": "python",
   "nbconvert_exporter": "python",
   "pygments_lexer": "ipython3",
   "version": "3.10.16"
  }
 },
 "nbformat": 4,
 "nbformat_minor": 5
}
